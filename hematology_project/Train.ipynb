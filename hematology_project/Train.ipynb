{
 "cells": [
  {
   "cell_type": "code",
   "execution_count": 1,
   "metadata": {},
   "outputs": [],
   "source": [
    "import pandas as pd\n",
    "import numpy as np\n",
    "import re\n",
    "\n",
    "from sklearn.preprocessing import LabelBinarizer, OneHotEncoder, StandardScaler, LabelEncoder\n",
    "from sklearn.model_selection import StratifiedShuffleSplit\n",
    "from sklearn.model_selection import train_test_split\n",
    "from sklearn.pipeline import Pipeline, FeatureUnion\n",
    "\n",
    "from sklearn.linear_model import SGDClassifier\n",
    "from sklearn.tree import DecisionTreeClassifier\n",
    "from sklearn.ensemble import RandomForestClassifier\n",
    "\n",
    "from sklearn.metrics import plot_confusion_matrix\n",
    "from sklearn.metrics import accuracy_score, f1_score, precision_score, recall_score, classification_report, confusion_matrix\n",
    "\n"
   ]
  },
  {
   "cell_type": "code",
   "execution_count": null,
   "metadata": {},
   "outputs": [],
   "source": []
  },
  {
   "cell_type": "code",
   "execution_count": 2,
   "metadata": {},
   "outputs": [],
   "source": [
    "df_train = pd.read_csv(\"training_data.csv\")\n",
    "df_test = pd.read_csv(\"test_data.csv\")"
   ]
  },
  {
   "cell_type": "code",
   "execution_count": null,
   "metadata": {},
   "outputs": [],
   "source": []
  },
  {
   "cell_type": "markdown",
   "metadata": {},
   "source": [
    "**Data Preparation**"
   ]
  },
  {
   "cell_type": "code",
   "execution_count": 3,
   "metadata": {},
   "outputs": [],
   "source": [
    "from sklearn.base import BaseEstimator, TransformerMixin\n",
    "\n",
    "class DataFrameSelector(BaseEstimator, TransformerMixin):\n",
    "    def __init__(self, attribute_names):\n",
    "        self.attribute_names = attribute_names\n",
    "        \n",
    "    def fit(self, X, y=None):\n",
    "        return self\n",
    "    \n",
    "    def transform(self, X):\n",
    "        return X[self.attribute_names].values\n",
    "    \n",
    "class CombinedAttributesAdder(BaseEstimator, TransformerMixin):\n",
    "    def __init__(self):\n",
    "        pass\n",
    "        \n",
    "    def fit(self, X, y=None):\n",
    "        return self\n",
    "    \n",
    "    def transform(self, X, y=None):\n",
    "        parameterName_idx = cat_attribs.index(\"standard_lab_parameter_name\")\n",
    "        print(\"Before combinaiton:{}\".format(X.shape))\n",
    "        unit_idx = cat_attribs.index(\"unit\")\n",
    "        parameter_unit = X[:, parameterName_idx] + \"_\" + X[:, unit_idx]\n",
    "        \n",
    "        X = np.delete(X, [unit_idx, parameterName_idx], 1)\n",
    "        combined = np.c_[X, parameter_unit]\n",
    "        print(\"After combinaiton:{}\".format(combined.shape))\n",
    "        return combined\n",
    "    \n",
    "class CleanUnit(BaseEstimator, TransformerMixin):\n",
    "    def __init__(self):\n",
    "        pass\n",
    "        \n",
    "    def fit(self, X, y=None):\n",
    "        return self\n",
    "    \n",
    "    def get_cleanedUnit(self, raw_unit):\n",
    "        updated = raw_unit.lower()\n",
    "        updated = updated.replace('μ', 'u').replace(\"micro\", \"u\")\n",
    "\n",
    "        updated = re.sub('[^0-9a-zA-Z/μ]+', '', updated)\n",
    "\n",
    "        updated = updated.replace('iu', 'u').replace(\"ui\", \"ul\")\n",
    "        return updated\n",
    "    \n",
    "    def transform(self, X, y=None):\n",
    "        unit_idx = cat_attribs.index(\"unit\")\n",
    "        parameter_cleaned = [ self.get_cleanedUnit(eachUnit) for eachUnit in X[:, unit_idx] ]\n",
    "        print(\"Before cleanUnit X:{}\".format(X.shape))\n",
    "        X[:, unit_idx] = parameter_cleaned\n",
    "        print(\"After cleanUnit X:{}\".format(X.shape))\n",
    "        return X"
   ]
  },
  {
   "cell_type": "code",
   "execution_count": 4,
   "metadata": {},
   "outputs": [],
   "source": [
    "possible_cat = {\"parameter_unit\":[], \"age_group\":[]}\n",
    "cleanUnit_obj = CleanUnit()\n",
    "cleaned_units = df_train[\"unit\"].apply(cleanUnit_obj.get_cleanedUnit)\n",
    "possible_cat[\"parameter_unit\"] = list(set(\n",
    "        (df_train[\"standard_lab_parameter_name\"] + \"_\" + cleaned_units).tolist()\n",
    "    ))\n",
    "possible_cat[\"age_group\"] = list(set( df_train[\"age_group\"].tolist() ))"
   ]
  },
  {
   "cell_type": "code",
   "execution_count": null,
   "metadata": {},
   "outputs": [],
   "source": []
  },
  {
   "cell_type": "code",
   "execution_count": 5,
   "metadata": {},
   "outputs": [],
   "source": [
    "num_attribs = [\"reference_high\", \"reference_low\", \"parameter_value\"]\n",
    "cat_attribs = [\"unit\", \"standard_lab_parameter_name\", \"age_group\"]\n",
    "target_field = [\"gender\"]\n",
    "\n",
    "num_pipeline = Pipeline([\n",
    "        ('selector', DataFrameSelector(num_attribs)),\n",
    "        ('std_scaler', StandardScaler()),\n",
    "    ])\n",
    "cat_pipeline = Pipeline([\n",
    "        ('selector', DataFrameSelector(cat_attribs)),\n",
    "        ('unit_cleaner', CleanUnit()),\n",
    "        ('attribs_adder', CombinedAttributesAdder()),\n",
    "        ('one_hot_encoder', OneHotEncoder(sparse=False)),\n",
    "    ])\n",
    "full_pipeline = FeatureUnion(transformer_list=[\n",
    "        (\"num_pipeline\", num_pipeline),\n",
    "        (\"cat_pipeline\", cat_pipeline),\n",
    "    ])"
   ]
  },
  {
   "cell_type": "code",
   "execution_count": null,
   "metadata": {},
   "outputs": [],
   "source": []
  },
  {
   "cell_type": "code",
   "execution_count": 6,
   "metadata": {},
   "outputs": [
    {
     "name": "stdout",
     "output_type": "stream",
     "text": [
      "Before cleanUnit X:(10000, 3)\n",
      "After cleanUnit X:(10000, 3)\n",
      "Before combinaiton:(10000, 3)\n",
      "After combinaiton:(10000, 2)\n",
      "(10000, 31)\n",
      "(10000,)\n",
      "[[   0 1158]\n",
      " [   1 8842]]\n"
     ]
    }
   ],
   "source": [
    "X_prepared = full_pipeline.fit_transform(df_train.copy())\n",
    "print(X_prepared.shape)\n",
    "\n",
    "encoder = LabelEncoder()\n",
    "y_raw = df_train[\"gender\"].str.lower()\n",
    "y_prepared = encoder.fit_transform(y_raw)\n",
    "print(y_prepared.shape)\n",
    "(unique, counts) = np.unique(y_prepared, return_counts=True)\n",
    "frequencies = np.asarray((unique, counts)).T\n",
    "print(frequencies)"
   ]
  },
  {
   "cell_type": "code",
   "execution_count": null,
   "metadata": {},
   "outputs": [],
   "source": []
  },
  {
   "cell_type": "code",
   "execution_count": 7,
   "metadata": {},
   "outputs": [
    {
     "name": "stdout",
     "output_type": "stream",
     "text": [
      " Before split set : x=(10000, 31), y=(10000,)\n",
      "TRAIN: [8321 7515 7639 ... 2904 1234 6489] TEST: [6190 3324 3719 ... 5239  591 9053]\n",
      " Training set : x=(8000, 31), y=(8000,)\n",
      " Testing set : x=(2000, 31), y=(2000,)\n"
     ]
    }
   ],
   "source": [
    "sss = StratifiedShuffleSplit(n_splits=1, test_size=0.2, random_state=42)\n",
    "print(\" Before split set : x={}, y={}\".format(X_prepared.shape, y_prepared.shape))\n",
    "for train_index, test_index in sss.split(X_prepared, y_prepared):\n",
    "    print(\"TRAIN:\", train_index, \"TEST:\", test_index)\n",
    "    X_train, X_test = X_prepared[train_index], X_prepared[test_index]\n",
    "    y_train, y_test = y_prepared[train_index], y_prepared[test_index]\n",
    "\n",
    "print(\" Training set : x={}, y={}\".format(X_train.shape, y_train.shape))\n",
    "print(\" Testing set : x={}, y={}\".format(X_test.shape, y_test.shape))"
   ]
  },
  {
   "cell_type": "code",
   "execution_count": 8,
   "metadata": {},
   "outputs": [
    {
     "name": "stdout",
     "output_type": "stream",
     "text": [
      "[[   0  926]\n",
      " [   1 7074]]\n",
      "[[   0  232]\n",
      " [   1 1768]]\n"
     ]
    }
   ],
   "source": [
    "(unique, counts) = np.unique(y_train, return_counts=True)\n",
    "frequencies = np.asarray((unique, counts)).T\n",
    "print(frequencies)\n",
    "(unique, counts) = np.unique(y_test, return_counts=True)\n",
    "frequencies = np.asarray((unique, counts)).T\n",
    "print(frequencies)"
   ]
  },
  {
   "cell_type": "code",
   "execution_count": 9,
   "metadata": {},
   "outputs": [],
   "source": [
    "# Validate Fetures\n",
    "# print(df_work[\"age_group\"].value_counts())\n",
    "# print(df_work[\"parameter_unit\"].value_counts())"
   ]
  },
  {
   "cell_type": "markdown",
   "metadata": {},
   "source": [
    "**Model Training**"
   ]
  },
  {
   "cell_type": "code",
   "execution_count": 10,
   "metadata": {},
   "outputs": [
    {
     "data": {
      "text/plain": [
       "DecisionTreeClassifier(random_state=42)"
      ]
     },
     "execution_count": 10,
     "metadata": {},
     "output_type": "execute_result"
    }
   ],
   "source": [
    "\n",
    "\n",
    "# model_used = SGDClassifier(random_state=42)\n",
    "\n",
    "model_used = DecisionTreeClassifier(random_state=42)\n",
    "\n",
    "# model_used = RandomForestClassifier(max_depth=15, random_state=42)\n",
    "model_used.fit(X_train, y_train)\n",
    "\n"
   ]
  },
  {
   "cell_type": "code",
   "execution_count": null,
   "metadata": {},
   "outputs": [],
   "source": []
  },
  {
   "cell_type": "code",
   "execution_count": 11,
   "metadata": {},
   "outputs": [],
   "source": [
    "def evaluate_model(model, X, y_actual, y_pred):\n",
    "    accuracy = accuracy_score(y_actual, y_pred)\n",
    "    f1 = f1_score(y_actual, y_pred, average=\"macro\")\n",
    "    precision = precision_score(y_actual, y_pred, average=\"macro\")\n",
    "    recall = recall_score(y_actual, y_pred, average=\"macro\")\n",
    "\n",
    "    print(\"Accuracy: {} \\nPrecission: {} \\nRecall: {} \\nF1 Score: {}\".format(accuracy, precision, recall, f1))\n",
    "\n",
    "    plot_confusion_matrix(model, X, y_actual)\n",
    "    \n"
   ]
  },
  {
   "cell_type": "markdown",
   "metadata": {},
   "source": [
    "Training set evaluation"
   ]
  },
  {
   "cell_type": "code",
   "execution_count": 12,
   "metadata": {},
   "outputs": [
    {
     "name": "stdout",
     "output_type": "stream",
     "text": [
      " Prediction y:(8000,)\n",
      "Accuracy: 0.927875 \n",
      "Precission: 0.8668577499492431 \n",
      "Recall: 0.7452272520488437 \n",
      "F1 Score: 0.7899021110422872\n"
     ]
    },
    {
     "data": {
      "image/png": "[encoded data removed]",
      "text/plain": [
       "<Figure size 432x288 with 2 Axes>"
      ]
     },
     "metadata": {
      "needs_background": "light"
     },
     "output_type": "display_data"
    }
   ],
   "source": [
    "y_train_predict = model_used.predict(X_train)\n",
    "print(\" Prediction y:{}\".format(y_train_predict.shape))\n",
    "evaluate_model(\n",
    "    model = model_used, \n",
    "    X = X_train, \n",
    "    y_actual = y_train, \n",
    "    y_pred = y_train_predict)"
   ]
  },
  {
   "cell_type": "markdown",
   "metadata": {},
   "source": [
    "Testing Set Evaluation"
   ]
  },
  {
   "cell_type": "code",
   "execution_count": 13,
   "metadata": {},
   "outputs": [
    {
     "name": "stdout",
     "output_type": "stream",
     "text": [
      " Prediction y:(2000,)\n",
      "Accuracy: 0.856 \n",
      "Precission: 0.6021312260536398 \n",
      "Recall: 0.5665470432204712 \n",
      "F1 Score: 0.5772861772579964\n"
     ]
    },
    {
     "data": {
      "image/png": "[encoded data removed]",
      "text/plain": [
       "<Figure size 432x288 with 2 Axes>"
      ]
     },
     "metadata": {
      "needs_background": "light"
     },
     "output_type": "display_data"
    }
   ],
   "source": [
    "y_test_predict = model_used.predict(X_test)\n",
    "print(\" Prediction y:{}\".format(y_test_predict.shape))\n",
    "evaluate_model(\n",
    "    model = model_used, \n",
    "    X = X_test, \n",
    "    y_actual = y_test, \n",
    "    y_pred = y_test_predict)"
   ]
  },
  {
   "cell_type": "code",
   "execution_count": null,
   "metadata": {},
   "outputs": [],
   "source": []
  },
  {
   "cell_type": "code",
   "execution_count": null,
   "metadata": {},
   "outputs": [],
   "source": []
  },
  {
   "cell_type": "code",
   "execution_count": null,
   "metadata": {},
   "outputs": [],
   "source": []
  },
  {
   "cell_type": "code",
   "execution_count": null,
   "metadata": {},
   "outputs": [],
   "source": []
  },
  {
   "cell_type": "code",
   "execution_count": null,
   "metadata": {},
   "outputs": [],
   "source": []
  },
  {
   "cell_type": "code",
   "execution_count": null,
   "metadata": {},
   "outputs": [],
   "source": []
  },
  {
   "cell_type": "markdown",
   "metadata": {},
   "source": [
    "**Model Prediction**"
   ]
  },
  {
   "cell_type": "code",
   "execution_count": 14,
   "metadata": {},
   "outputs": [
    {
     "name": "stdout",
     "output_type": "stream",
     "text": [
      "Removed : 234 instances due to parameter_unit mismatch\n",
      "Removed : 0 instances due to age_group mismatch\n",
      "Total dropped cols = 234\n"
     ]
    }
   ],
   "source": [
    "def test_data_validation(df, possible_cat):\n",
    "    cleanUnit_obj = CleanUnit()\n",
    "    cleaned_units = df[\"unit\"].apply(cleanUnit_obj.get_cleanedUnit)\n",
    "    param_unit_col = (df[\"standard_lab_parameter_name\"] + \"_\" + cleaned_units)\n",
    "    age_group_col = df[\"age_group\"]\n",
    "    \n",
    "    rm_indices_param = param_unit_col[~param_unit_col.isin(possible_cat[\"parameter_unit\"])].index.tolist()\n",
    "    rm_indices_age = age_group_col[~age_group_col.isin(possible_cat[\"age_group\"])].index.tolist()\n",
    "    print(\"Removed : {} instances due to parameter_unit mismatch\".format(len(rm_indices_param)))\n",
    "    print(\"Removed : {} instances due to age_group mismatch\".format(len(rm_indices_age)))\n",
    "    rm_indices = list(set(rm_indices_param + rm_indices_age))\n",
    "    print(\"Total dropped cols = {}\".format(len(rm_indices)))\n",
    "    \n",
    "    df_filtered = df.drop(df.index[rm_indices])\n",
    "    df_removed  = df[df.index.isin(rm_indices)]\n",
    "    \n",
    "    return df_filtered, df_removed\n",
    "    \n",
    "df_test_filtered, df_test_removed = test_data_validation(df_test, possible_cat)"
   ]
  },
  {
   "cell_type": "code",
   "execution_count": null,
   "metadata": {},
   "outputs": [],
   "source": []
  },
  {
   "cell_type": "code",
   "execution_count": 15,
   "metadata": {},
   "outputs": [
    {
     "name": "stdout",
     "output_type": "stream",
     "text": [
      "Before cleanUnit X:(19766, 3)\n",
      "After cleanUnit X:(19766, 3)\n",
      "Before combinaiton:(19766, 3)\n",
      "After combinaiton:(19766, 2)\n"
     ]
    }
   ],
   "source": [
    "test_size = df_test_filtered.shape[0]\n",
    "col_used = list(df_train.columns)\n",
    "col_used.remove(\"gender\")\n",
    "df_test_updated = pd.concat([df_train[col_used], df_test_filtered[col_used]]).reset_index(drop=True)\n",
    "\n",
    "X_test_ext = full_pipeline.fit_transform(df_test_updated.copy())[len(df_test_updated) - test_size:]\n",
    "# print(X_test_ext.shape)"
   ]
  },
  {
   "cell_type": "code",
   "execution_count": null,
   "metadata": {},
   "outputs": [],
   "source": []
  },
  {
   "cell_type": "code",
   "execution_count": 16,
   "metadata": {},
   "outputs": [],
   "source": [
    "y_test_predict = model_used.predict(X_test_ext)"
   ]
  },
  {
   "cell_type": "code",
   "execution_count": 17,
   "metadata": {},
   "outputs": [
    {
     "data": {
      "text/plain": [
       "array([1, 1, 1, ..., 1, 1, 1])"
      ]
     },
     "execution_count": 17,
     "metadata": {},
     "output_type": "execute_result"
    }
   ],
   "source": [
    "y_test_predict"
   ]
  },
  {
   "cell_type": "code",
   "execution_count": null,
   "metadata": {},
   "outputs": [],
   "source": []
  }
 ],
 "metadata": {
  "kernelspec": {
   "display_name": "Python 3",
   "language": "python",
   "name": "python3"
  },
  "language_info": {
   "codemirror_mode": {
    "name": "ipython",
    "version": 3
   },
   "file_extension": ".py",
   "mimetype": "text/x-python",
   "name": "python",
   "nbconvert_exporter": "python",
   "pygments_lexer": "ipython3",
   "version": "3.8.7"
  }
 },
 "nbformat": 4,
 "nbformat_minor": 4
}
